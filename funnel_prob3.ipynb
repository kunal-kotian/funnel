{
 "cells": [
  {
   "cell_type": "code",
   "execution_count": 1,
   "metadata": {},
   "outputs": [],
   "source": [
    "import numpy as np"
   ]
  },
  {
   "cell_type": "code",
   "execution_count": 2,
   "metadata": {},
   "outputs": [],
   "source": [
    "def UserSim(n, parameter):\n",
    "    \"\"\"\n",
    "    input :\n",
    "    n - the number to of users to simulate\n",
    "    parameter - the rate parameter (lambda)\n",
    "    \n",
    "    output: \n",
    "    A list of exponential random variable simulations - specifically, the prbability density for each\n",
    "    simulated random variable instance.\n",
    "    \"\"\"\n",
    "    return list(np.random.exponential(1.0 / parameter, n)) #1st parameter is scale = 1/parameter given aka lambda"
   ]
  },
  {
   "cell_type": "code",
   "execution_count": 3,
   "metadata": {},
   "outputs": [
    {
     "data": {
      "text/plain": [
       "[1, 1, 0]"
      ]
     },
     "execution_count": 3,
     "metadata": {},
     "output_type": "execute_result"
    }
   ],
   "source": [
    "def HurdleFun(user_quit_times, breakpoints):\n",
    "    '''\n",
    "    user_quit_times: list of times at which user quit\n",
    "    breakpoints: list of breakpoints\n",
    "    '''\n",
    "    user_quit_times = np.sort(user_quit_times)\n",
    "    total_users = user_quit_times.size\n",
    "    total_quit_prev = 0\n",
    "    user_quit_bp = list()\n",
    "    \n",
    "    for bp in breakpoints:\n",
    "        # Get the total users who quit so far\n",
    "        total_quit = user_quit_times[user_quit_times < bp].size\n",
    "        # Subtract the total users who quit till previous breakpoint to get users who quit at current breakpoint\n",
    "        user_quit_bp.append(total_quit - total_quit_prev)\n",
    "        # Keep track of users who quit so far\n",
    "        total_quit_prev = total_quit\n",
    "    \n",
    "    #Lastly add the remaining users who didn\n",
    "    remaining_users = total_users - total_quit_prev\n",
    "    user_quit_bp.append(remaining_users)\n",
    "    return user_quit_bp\n",
    "        \n",
    "HurdleFun([.20, .40], [.25, .5])"
   ]
  },
  {
   "cell_type": "code",
   "execution_count": 4,
   "metadata": {},
   "outputs": [],
   "source": [
    "x = [.25, .45, .75]\n",
    "breaks = [.5]"
   ]
  },
  {
   "cell_type": "code",
   "execution_count": 5,
   "metadata": {},
   "outputs": [
    {
     "data": {
      "text/plain": [
       "[2, 1]"
      ]
     },
     "execution_count": 5,
     "metadata": {},
     "output_type": "execute_result"
    }
   ],
   "source": [
    "hf = HurdleFun(x, breaks)\n",
    "hf"
   ]
  },
  {
   "cell_type": "code",
   "execution_count": 6,
   "metadata": {},
   "outputs": [],
   "source": [
    "def exp(lam, x):\n",
    "    return np.log(1 - np.exp(-1*x*lam))"
   ]
  },
  {
   "cell_type": "code",
   "execution_count": 7,
   "metadata": {},
   "outputs": [],
   "source": [
    "def EstLam2(lam, hurdles, breaks):\n",
    "    '''\n",
    "    hurdles: output of HurdleFun\n",
    "    breaks: list of breakpoints\n",
    "    '''\n",
    "    total_users = sum(hurdles)\n",
    "    # keep track of m0, m1 and m2\n",
    "    m0 = hurdles[0]\n",
    "    bp1 = breaks[0]\n",
    "    m2 = hurdles[-1]\n",
    "    bp_last = breaks[-1]\n",
    "    m1 = total_users - m0 - m2\n",
    "    log_like = (m0 * exp(lam, bp1)) + (m2 * -1*lam*bp_last)\n",
    "    # If there are users in m1, then add relevant sums to log likelihood\n",
    "    if m1 != 0:\n",
    "        for i in range(2, len(breaks)):\n",
    "            log_like += (exp(lam, breaks[i + 1]) - exp(lam, breaks[i]))\n",
    "    return log_like"
   ]
  },
  {
   "cell_type": "code",
   "execution_count": 8,
   "metadata": {},
   "outputs": [],
   "source": [
    "p = lambda x: EstLam2(x, hf, breaks)"
   ]
  },
  {
   "cell_type": "code",
   "execution_count": 9,
   "metadata": {},
   "outputs": [
    {
     "data": {
      "text/plain": [
       "-2.3655042591343771"
      ]
     },
     "execution_count": 9,
     "metadata": {},
     "output_type": "execute_result"
    }
   ],
   "source": [
    "p(1)"
   ]
  }
 ],
 "metadata": {
  "kernelspec": {
   "display_name": "Python 2",
   "language": "python",
   "name": "python2"
  },
  "language_info": {
   "codemirror_mode": {
    "name": "ipython",
    "version": 2
   },
   "file_extension": ".py",
   "mimetype": "text/x-python",
   "name": "python",
   "nbconvert_exporter": "python",
   "pygments_lexer": "ipython2",
   "version": "2.7.13"
  }
 },
 "nbformat": 4,
 "nbformat_minor": 2
}
