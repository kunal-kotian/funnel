{
 "cells": [
  {
   "cell_type": "code",
   "execution_count": 1,
   "metadata": {
    "collapsed": true
   },
   "outputs": [],
   "source": [
    "import numpy as np"
   ]
  },
  {
   "cell_type": "code",
   "execution_count": 16,
   "metadata": {
    "collapsed": true
   },
   "outputs": [],
   "source": [
    "def UserSim(n, parameter):\n",
    "    \"\"\"\n",
    "    input :\n",
    "    n - the number to of users to simulate\n",
    "    parameter - the rate parameter (lambda)\n",
    "    \n",
    "    output: \n",
    "    A list of exponential random variable simulations - specifically, the prbability density for each\n",
    "    simulated random variable instance.\n",
    "    \"\"\"\n",
    "    np.random.seed(42)\n",
    "    return list(np.random.exponential(1.0 / parameter, n)) #1st parameter is scale = 1/parameter given aka lambda"
   ]
  },
  {
   "cell_type": "code",
   "execution_count": 3,
   "metadata": {},
   "outputs": [
    {
     "data": {
      "text/plain": [
       "[1, 1, 0]"
      ]
     },
     "execution_count": 3,
     "metadata": {},
     "output_type": "execute_result"
    }
   ],
   "source": [
    "def HurdleFun(user_quit_times, breakpoints):\n",
    "    '''\n",
    "    user_quit_times: list of times at which user quit\n",
    "    breakpoints: list of breakpoints\n",
    "    '''\n",
    "    user_quit_times = np.sort(user_quit_times)\n",
    "    total_users = user_quit_times.size\n",
    "    total_quit_prev = 0\n",
    "    user_quit_bp = list()\n",
    "    \n",
    "    for bp in breakpoints:\n",
    "        # Get the total users who quit so far\n",
    "        total_quit = user_quit_times[user_quit_times < bp].size\n",
    "        # Subtract the total users who quit till previous breakpoint to get users who quit at current breakpoint\n",
    "        user_quit_bp.append(total_quit - total_quit_prev)\n",
    "        # Keep track of users who quit so far\n",
    "        total_quit_prev = total_quit\n",
    "    \n",
    "    #Lastly add the remaining users who didn\n",
    "    remaining_users = total_users - total_quit_prev\n",
    "    user_quit_bp.append(remaining_users)\n",
    "    return user_quit_bp\n",
    "        \n",
    "HurdleFun([.20, .40], [.25, .5])"
   ]
  },
  {
   "cell_type": "code",
   "execution_count": 4,
   "metadata": {
    "collapsed": true
   },
   "outputs": [],
   "source": [
    "x = [.25, .45, .75]\n",
    "breaks = [.5]"
   ]
  },
  {
   "cell_type": "code",
   "execution_count": 5,
   "metadata": {},
   "outputs": [
    {
     "data": {
      "text/plain": [
       "[2, 1]"
      ]
     },
     "execution_count": 5,
     "metadata": {},
     "output_type": "execute_result"
    }
   ],
   "source": [
    "hf = HurdleFun(x, breaks)\n",
    "hf"
   ]
  },
  {
   "cell_type": "code",
   "execution_count": 6,
   "metadata": {
    "collapsed": true
   },
   "outputs": [],
   "source": [
    "def exp(lam, x):\n",
    "    return np.log(1 - np.exp(-1*x*lam))"
   ]
  },
  {
   "cell_type": "code",
   "execution_count": null,
   "metadata": {
    "collapsed": true
   },
   "outputs": [],
   "source": []
  },
  {
   "cell_type": "code",
   "execution_count": 7,
   "metadata": {},
   "outputs": [
    {
     "data": {
      "text/plain": [
       "([2, 1], [0.5])"
      ]
     },
     "execution_count": 7,
     "metadata": {},
     "output_type": "execute_result"
    }
   ],
   "source": [
    "hf, breaks"
   ]
  },
  {
   "cell_type": "code",
   "execution_count": 8,
   "metadata": {
    "collapsed": true
   },
   "outputs": [],
   "source": [
    "def cdf(lam, x):\n",
    "    '''\n",
    "    Returns exponential distribution's cdf when lambda and x are given\n",
    "    '''\n",
    "    return (1 - np.exp(-1*x*lam))\n",
    "\n",
    "def EstLam2(hurdles, breaks):\n",
    "    '''\n",
    "    Currying function to return another function\n",
    "    Inputs:\n",
    "        hurdles: output of HurdleFun\n",
    "        breaks: list of breakpoints\n",
    "    Returns: function instance for calcluating log_likelihood given the setup(hurdles, breaks)\n",
    "    \n",
    "    TODO: Convert into decorator function\n",
    "    '''\n",
    "    \n",
    "    total_users = sum(hurdles)\n",
    "    # keep track of m0, m1 and m2\n",
    "    m0 = hurdles[0]\n",
    "    bp1 = breaks[0]\n",
    "    m2 = hurdles[-1]\n",
    "    bp_last = breaks[-1]\n",
    "    m1 = total_users - m0 - m2\n",
    "    \n",
    "    def log_likehood(lam):\n",
    "        \"\"\"\n",
    "        Specialized function to be called as a lambda, which takes the lam list and\n",
    "        returns the log_likelihood\n",
    "        \n",
    "        \"\"\"\n",
    "        log_like = (m0 * np.log(cdf(lam, bp1))) + (m2 * -1*lam*bp_last)\n",
    "        # If there are users in m1, then add relevant sums to log likelihood\n",
    "        if m1 != 0:\n",
    "            for i in range(len(breaks) - 1):\n",
    "                log_like += hurdles[i+1]*np.log(cdf(lam, breaks[i + 1]) - cdf(lam, breaks[i]))\n",
    "        return log_like\n",
    "    \n",
    "    return log_likehood"
   ]
  },
  {
   "cell_type": "code",
   "execution_count": 9,
   "metadata": {
    "collapsed": true
   },
   "outputs": [],
   "source": [
    "p = EstLam2(hf, breaks)"
   ]
  },
  {
   "cell_type": "code",
   "execution_count": 10,
   "metadata": {},
   "outputs": [
    {
     "data": {
      "text/plain": [
       "-2.3655042591343771"
      ]
     },
     "execution_count": 10,
     "metadata": {},
     "output_type": "execute_result"
    }
   ],
   "source": [
    "p(1)"
   ]
  },
  {
   "cell_type": "markdown",
   "metadata": {},
   "source": [
    "### Part 4"
   ]
  },
  {
   "cell_type": "code",
   "execution_count": 11,
   "metadata": {
    "collapsed": true
   },
   "outputs": [],
   "source": [
    "def MaxMLE(survival_list, breakpoints, lambda_list):\n",
    "    \"\"\"\n",
    "    Given the list of survival of users in the form of the output of hurdlefun, breakpoints list and \n",
    "    the possible values of lambda, outputs the best lambda for which the MLE estimates are lowest\n",
    "    Does that by using the EstLam2 function to get the MLE estimate\n",
    "    \n",
    "    Input: Survival list of users [], breakpoints [], possible lambda values []\n",
    "    Output: best lambda float\n",
    "    \"\"\"\n",
    "    PRT = EstLam2(survival_list, breakpoints)\n",
    "    mle_list = [PRT(x) for x in lambda_list]\n",
    "    index = np.argmax(mle_list)\n",
    "    \n",
    "    return lambda_list[index]"
   ]
  },
  {
   "cell_type": "code",
   "execution_count": 12,
   "metadata": {},
   "outputs": [
    {
     "name": "stdout",
     "output_type": "stream",
     "text": [
      "2.2\n"
     ]
    }
   ],
   "source": [
    "print(MaxMLE( HurdleFun(x, breaks), breaks, list(np.arange(.1, 3, .05))))"
   ]
  },
  {
   "cell_type": "markdown",
   "metadata": {},
   "source": [
    "##### Part 4a."
   ]
  },
  {
   "cell_type": "code",
   "execution_count": 17,
   "metadata": {},
   "outputs": [
    {
     "name": "stdout",
     "output_type": "stream",
     "text": [
      "For break:[0.25, 0.75]\n",
      "Average lambda1: 1.0932 and lambda2: 1.15\n",
      "Average difference is -0.0568\n",
      "For break:[0.25, 3]\n",
      "Average lambda1: 1.0932 and lambda2: 1.1\n",
      "Average difference is -0.0068\n",
      "For break:[0.25, 10]\n",
      "Average lambda1: 1.0932 and lambda2: 1.35\n",
      "Average difference is -0.2568\n"
     ]
    }
   ],
   "source": [
    "np.random.seed(42)\n",
    "# Function to estimate lambda using MLE appraoch\n",
    "def EstLam1(quitting_time): return 1.0/np.mean(np.array(quitting_time))\n",
    "\n",
    "\n",
    "# Calcualate the difference in the estimates of lambda by EstLam1 and EstLam2\n",
    "for breaks in [[.25,.75],[.25,3],[.25,10]]:\n",
    "    lambda_diff = []\n",
    "    lambda1=[]\n",
    "    lambda2=[]\n",
    "    for i in range(0,1000):\n",
    "        samples = UserSim(100, 1)\n",
    "        lmbda1 = EstLam1(samples)\n",
    "        lmdba2 = MaxMLE(HurdleFun(samples, breaks), breaks, list(np.arange(.1, 3, .05)))\n",
    "        lambda1.append(lmbda1)\n",
    "        lambda2.append(lmdba2)\n",
    "        diff=lmbda1-lmdba2\n",
    "        lambda_diff.append(diff)\n",
    "    print('For break:{}'.format(breaks))\n",
    "    print('Average lambda1: {} and lambda2: {}'.format(np.round(np.mean(lambda1),4), np.round(np.mean(lambda2),4)))\n",
    "    print('Average difference is {}'.format( np.round(np.mean(lambda_diff),4)))"
   ]
  },
  {
   "cell_type": "markdown",
   "metadata": {},
   "source": [
    "Moving the breakpoints doesn't effect the estimate of lambda. "
   ]
  },
  {
   "cell_type": "markdown",
   "metadata": {},
   "source": [
    "#### Part 4b."
   ]
  },
  {
   "cell_type": "markdown",
   "metadata": {},
   "source": [
    "As we saw that changing the breakpoints doesn't effect the estimate of lambda, we can design the breakpoints with the interval which satisfy our business requirements without being limited by the intervals. Since the exponential distribution is memoryless, changing the interval don't effect much"
   ]
  },
  {
   "cell_type": "code",
   "execution_count": null,
   "metadata": {
    "collapsed": true
   },
   "outputs": [],
   "source": []
  },
  {
   "cell_type": "code",
   "execution_count": null,
   "metadata": {
    "collapsed": true
   },
   "outputs": [],
   "source": []
  }
 ],
 "metadata": {
  "kernelspec": {
   "display_name": "Python 3",
   "language": "python",
   "name": "python3"
  },
  "language_info": {
   "codemirror_mode": {
    "name": "ipython",
    "version": 3
   },
   "file_extension": ".py",
   "mimetype": "text/x-python",
   "name": "python",
   "nbconvert_exporter": "python",
   "pygments_lexer": "ipython3",
   "version": "3.6.2"
  }
 },
 "nbformat": 4,
 "nbformat_minor": 2
}
