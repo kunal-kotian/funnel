{
 "cells": [
  {
   "cell_type": "code",
   "execution_count": 16,
   "metadata": {
    "collapsed": true
   },
   "outputs": [],
   "source": [
    "import numpy as np\n",
    "import pandas as pd"
   ]
  },
  {
   "cell_type": "code",
   "execution_count": 3,
   "metadata": {
    "collapsed": true
   },
   "outputs": [],
   "source": [
    "def UserSim(n, parameter):\n",
    "    \"\"\"\n",
    "    input :\n",
    "    n - the number to of users to simulate\n",
    "    parameter - the rate parameter (lambda)\n",
    "    \n",
    "    output: \n",
    "    A list of exponential random variable simulations - specifically, the prbability density for each\n",
    "    simulated random variable instance.\n",
    "    \"\"\"\n",
    "    return list(np.random.exponential(1.0 / parameter, n)) #1st parameter is scale = 1/parameter given aka lambda"
   ]
  },
  {
   "cell_type": "code",
   "execution_count": 4,
   "metadata": {},
   "outputs": [
    {
     "data": {
      "text/plain": [
       "[1, 1, 0]"
      ]
     },
     "execution_count": 4,
     "metadata": {},
     "output_type": "execute_result"
    }
   ],
   "source": [
    "def HurdleFun(user_quit_times, breakpoints):\n",
    "    '''\n",
    "    user_quit_times: list of times at which user quit\n",
    "    breakpoints: list of breakpoints\n",
    "    '''\n",
    "    user_quit_times = np.sort(user_quit_times)\n",
    "    total_users = user_quit_times.size\n",
    "    total_quit_prev = 0\n",
    "    user_quit_bp = list()\n",
    "    \n",
    "    for bp in breakpoints:\n",
    "        # Get the total users who quit so far\n",
    "        total_quit = user_quit_times[user_quit_times < bp].size\n",
    "        # Subtract the total users who quit till previous breakpoint to get users who quit at current breakpoint\n",
    "        user_quit_bp.append(total_quit - total_quit_prev)\n",
    "        # Keep track of users who quit so far\n",
    "        total_quit_prev = total_quit\n",
    "    \n",
    "    #Lastly add the remaining users who didn\n",
    "    remaining_users = total_users - total_quit_prev\n",
    "    user_quit_bp.append(remaining_users)\n",
    "    return user_quit_bp\n",
    "        \n",
    "HurdleFun([.20, .40], [.25, .5])"
   ]
  },
  {
   "cell_type": "code",
   "execution_count": 5,
   "metadata": {
    "collapsed": true
   },
   "outputs": [],
   "source": [
    "x = [.25, .45, .75]\n",
    "breaks = [.5]"
   ]
  },
  {
   "cell_type": "code",
   "execution_count": 6,
   "metadata": {},
   "outputs": [
    {
     "data": {
      "text/plain": [
       "[2, 1]"
      ]
     },
     "execution_count": 6,
     "metadata": {},
     "output_type": "execute_result"
    }
   ],
   "source": [
    "hf = HurdleFun(x, breaks)\n",
    "hf"
   ]
  },
  {
   "cell_type": "code",
   "execution_count": 7,
   "metadata": {
    "collapsed": true
   },
   "outputs": [],
   "source": [
    "def exp(lam, x):\n",
    "    return np.log(1 - np.exp(-1*x*lam))"
   ]
  },
  {
   "cell_type": "code",
   "execution_count": null,
   "metadata": {
    "collapsed": true
   },
   "outputs": [],
   "source": []
  },
  {
   "cell_type": "code",
   "execution_count": 8,
   "metadata": {},
   "outputs": [
    {
     "data": {
      "text/plain": [
       "([2, 1], [0.5])"
      ]
     },
     "execution_count": 8,
     "metadata": {},
     "output_type": "execute_result"
    }
   ],
   "source": [
    "hf, breaks"
   ]
  },
  {
   "cell_type": "code",
   "execution_count": 9,
   "metadata": {
    "collapsed": true
   },
   "outputs": [],
   "source": [
    "def cdf(lam, x):\n",
    "    '''\n",
    "    Returns exponential distribution's cdf when lambda and x are given\n",
    "    '''\n",
    "    return (1 - np.exp(-1*x*lam))\n",
    "\n",
    "def EstLam2(hurdles, breaks):\n",
    "    '''\n",
    "    Currying function to return another function\n",
    "    Inputs:\n",
    "        hurdles: output of HurdleFun\n",
    "        breaks: list of breakpoints\n",
    "    Returns: function instance for calcluating log_likelihood given the setup(hurdles, breaks)\n",
    "    \n",
    "    TODO: Convert into decorator function\n",
    "    '''\n",
    "    \n",
    "    total_users = sum(hurdles)\n",
    "    # keep track of m0, m1 and m2\n",
    "    m0 = hurdles[0]\n",
    "    bp1 = breaks[0]\n",
    "    m2 = hurdles[-1]\n",
    "    bp_last = breaks[-1]\n",
    "    m1 = total_users - m0 - m2\n",
    "    \n",
    "    def log_likehood(lam):\n",
    "        \"\"\"\n",
    "        Specialized function to be called as a lambda, which takes the lam list and\n",
    "        returns the log_likelihood\n",
    "        \n",
    "        \"\"\"\n",
    "        log_like = (m0 * np.log(cdf(lam, bp1))) + (m2 * -1*lam*bp_last)\n",
    "        # If there are users in m1, then add relevant sums to log likelihood\n",
    "        if m1 != 0:\n",
    "            for i in range(len(breaks) - 1):\n",
    "                log_like += hurdles[i+1]*np.log(cdf(lam, breaks[i + 1]) - cdf(lam, breaks[i]))\n",
    "        return log_like\n",
    "    \n",
    "    return log_likehood"
   ]
  },
  {
   "cell_type": "code",
   "execution_count": 10,
   "metadata": {
    "collapsed": true
   },
   "outputs": [],
   "source": [
    "p = EstLam2(hf, breaks)"
   ]
  },
  {
   "cell_type": "code",
   "execution_count": 11,
   "metadata": {},
   "outputs": [
    {
     "data": {
      "text/plain": [
       "-2.3655042591343771"
      ]
     },
     "execution_count": 11,
     "metadata": {},
     "output_type": "execute_result"
    }
   ],
   "source": [
    "p(1)"
   ]
  },
  {
   "cell_type": "markdown",
   "metadata": {},
   "source": [
    "### Part 4"
   ]
  },
  {
   "cell_type": "code",
   "execution_count": 12,
   "metadata": {
    "collapsed": true
   },
   "outputs": [],
   "source": [
    "def MaxMLE(survival_list, breakpoints, lambda_list):\n",
    "    \"\"\"\n",
    "    Given the list of survival of users in the form of the output of hurdlefun, breakpoints list and \n",
    "    the possible values of lambda, outputs the best lambda for which the MLE estimates are lowest\n",
    "    Does that by using the EstLam2 function to get the MLE estimate\n",
    "    \n",
    "    Input: Survival list of users [], breakpoints [], possible lambda values []\n",
    "    Output: best lambda float\n",
    "    \"\"\"\n",
    "    PRT = EstLam2(survival_list, breakpoints)\n",
    "    mle_list = [PRT(x) for x in lambda_list]\n",
    "    index = np.argmax(mle_list)\n",
    "    \n",
    "    return lambda_list[index]"
   ]
  },
  {
   "cell_type": "code",
   "execution_count": 13,
   "metadata": {},
   "outputs": [
    {
     "name": "stdout",
     "output_type": "stream",
     "text": [
      "2.2\n"
     ]
    }
   ],
   "source": [
    "print(MaxMLE( HurdleFun(x, breaks), breaks, list(np.arange(.1, 3, .05))))"
   ]
  },
  {
   "cell_type": "code",
   "execution_count": 26,
   "metadata": {},
   "outputs": [
    {
     "name": "stdout",
     "output_type": "stream",
     "text": [
      "1 [0.25, 0.3]\n",
      "2 [0.25, 0.5]\n",
      "3 [0.25, 0.75]\n",
      "4 [0.25, 3]\n",
      "5 [0.25, 50]\n"
     ]
    }
   ],
   "source": [
    "for i, breaks in enumerate([[0.25,0.3],[0.25,0.5],[.25,.75],[.25,3],[.25,50]],1):\n",
    "    print(i,breaks)"
   ]
  },
  {
   "cell_type": "markdown",
   "metadata": {},
   "source": [
    "##### Part 4a."
   ]
  },
  {
   "cell_type": "code",
   "execution_count": 47,
   "metadata": {},
   "outputs": [
    {
     "name": "stdout",
     "output_type": "stream",
     "text": [
      "           breaks  lambda1  lambda2    diff\n",
      "1   [0.0001, 0.3]   1.0101   1.0152 -0.0050\n",
      "2     [0.25, 0.3]   1.0090   1.0008  0.0083\n",
      "3       [0.25, 1]   1.0121   1.0093  0.0028\n",
      "4       [0.25, 5]   1.0080   1.0236 -0.0155\n",
      "5      [0.25, 10]   1.0111   1.0146 -0.0035\n",
      "6         [2, 10]   1.0129   1.0159 -0.0029\n",
      "7         [4, 10]   1.0102   1.3791 -0.3689\n",
      "8         [5, 10]   1.0111   1.9444 -0.9333\n",
      "9   [0.25, 5, 50]   1.0157   1.0318 -0.0160\n",
      "10    [4, 10, 50]   1.0125   1.3598 -0.3473\n"
     ]
    }
   ],
   "source": [
    "\n",
    "# Function to estimate lambda using MLE appraoch\n",
    "def EstLam1(quitting_time): return 1.0/np.mean(np.array(quitting_time))\n",
    "# Calcualate the difference in the estimates of lambda by EstLam1 and EstLam2\n",
    "final_df = pd.DataFrame(columns=['breaks', 'lambda1', 'lambda2', 'diff'])\n",
    "for b, breaks in enumerate([[0.0001,0.3],[0.25,0.3],[.25,1],[.25,5],[.25,10],[2,10],[4,10],[5,10],[.25,5,50],[4,10,50]],1):\n",
    "    \n",
    "    lambda_diff = []\n",
    "    lambda1=[]\n",
    "    lambda2=[]\n",
    "    \n",
    "    for i in range(0,1000):\n",
    "        \n",
    "        samples = UserSim(100, 1)\n",
    "        lmbda1 = EstLam1(samples)\n",
    "        lmdba2 = MaxMLE(HurdleFun(samples, breaks), breaks, list(np.arange(.1, 3, .05)))\n",
    "        lambda1.append(lmbda1)\n",
    "        lambda2.append(lmdba2)\n",
    "        diff=lmbda1-lmdba2\n",
    "        lambda_diff.append(diff)\n",
    "    final_df.loc[b]=[breaks, np.round(np.mean(lambda1),4), np.round(np.mean(lambda2),4), np.round(np.mean(lambda_diff),4)]\n",
    "print(final_df)"
   ]
  },
  {
   "cell_type": "markdown",
   "metadata": {},
   "source": [
    "Moving the breakpoints doesn't effect the estimate of lambda. "
   ]
  }
 ],
 "metadata": {
  "kernelspec": {
   "display_name": "Python 3",
   "language": "python",
   "name": "python3"
  },
  "language_info": {
   "codemirror_mode": {
    "name": "ipython",
    "version": 3
   },
   "file_extension": ".py",
   "mimetype": "text/x-python",
   "name": "python",
   "nbconvert_exporter": "python",
   "pygments_lexer": "ipython3",
   "version": "3.6.2"
  }
 },
 "nbformat": 4,
 "nbformat_minor": 2
}
